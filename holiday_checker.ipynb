{
 "cells": [
  {
   "cell_type": "code",
   "execution_count": 5,
   "metadata": {},
   "outputs": [],
   "source": [
    "from datascience import *\n",
    "import numpy as np"
   ]
  },
  {
   "cell_type": "markdown",
   "metadata": {},
   "source": [
    "## Program that tells you when the closest (university) holiday/break is. ##"
   ]
  },
  {
   "cell_type": "markdown",
   "metadata": {},
   "source": [
    "Developed by Nathan Kelete"
   ]
  },
  {
   "cell_type": "code",
   "execution_count": 103,
   "metadata": {},
   "outputs": [
    {
     "data": {
      "text/html": [
       "<table border=\"1\" class=\"dataframe\">\n",
       "    <thead>\n",
       "        <tr>\n",
       "            <th>Holiday</th> <th>2022</th> <th>2023</th>\n",
       "        </tr>\n",
       "    </thead>\n",
       "    <tbody>\n",
       "        <tr>\n",
       "            <td>Labor Day            </td> <td>September 6              </td> <td>September 5                        </td>\n",
       "        </tr>\n",
       "        <tr>\n",
       "            <td>Wellness Day (Fall)  </td> <td>nan                      </td> <td>September 6 & September 26         </td>\n",
       "        </tr>\n",
       "        <tr>\n",
       "            <td>Fall Break           </td> <td>October 21 - October 22  </td> <td>October 20 - October 21            </td>\n",
       "        </tr>\n",
       "        <tr>\n",
       "            <td>Thanksgiving Break   </td> <td>November 24 - November 26</td> <td>November 23 - November 25          </td>\n",
       "        </tr>\n",
       "        <tr>\n",
       "            <td>LDOC (Fall)          </td> <td>December 1               </td> <td>November 30                        </td>\n",
       "        </tr>\n",
       "        <tr>\n",
       "            <td>Wellness Day (Spring)</td> <td>April 14                 </td> <td>February 13 & February 14 & April 6</td>\n",
       "        </tr>\n",
       "        <tr>\n",
       "            <td>MLK Day              </td> <td>January 17               </td> <td>January 16                         </td>\n",
       "        </tr>\n",
       "        <tr>\n",
       "            <td>Spring Break         </td> <td>March 11                 </td> <td>March 13 - March 17                </td>\n",
       "        </tr>\n",
       "        <tr>\n",
       "            <td>University Holiday   </td> <td>April 15                 </td> <td>April 7                            </td>\n",
       "        </tr>\n",
       "        <tr>\n",
       "            <td>LDOC (Spring)        </td> <td>April 27                 </td> <td>April 28                           </td>\n",
       "        </tr>\n",
       "    </tbody>\n",
       "</table>"
      ],
      "text/plain": [
       "Holiday               | 2022                      | 2023\n",
       "Labor Day             | September 6               | September 5\n",
       "Wellness Day (Fall)   | nan                       | September 6 & September 26\n",
       "Fall Break            | October 21 - October 22   | October 20 - October 21\n",
       "Thanksgiving Break    | November 24 - November 26 | November 23 - November 25\n",
       "LDOC (Fall)           | December 1                | November 30\n",
       "Wellness Day (Spring) | April 14                  | February 13 & February 14 & April 6\n",
       "MLK Day               | January 17                | January 16\n",
       "Spring Break          | March 11                  | March 13 - March 17\n",
       "University Holiday    | April 15                  | April 7\n",
       "LDOC (Spring)         | April 27                  | April 28"
      ]
     },
     "execution_count": 103,
     "metadata": {},
     "output_type": "execute_result"
    }
   ],
   "source": [
    "holidays = Table.read_table('unc_holidays.csv')\n",
    "holidays.relabel('Unnamed: 0', 'Holiday')"
   ]
  },
  {
   "cell_type": "code",
   "execution_count": 104,
   "metadata": {},
   "outputs": [
    {
     "name": "stdin",
     "output_type": "stream",
     "text": [
      "What's today's date? (EX: (January 1 2022) April 13 2022\n"
     ]
    }
   ],
   "source": [
    "user_date = input(\"What's today's date? (EX: (January 1 2022)\")"
   ]
  },
  {
   "cell_type": "code",
   "execution_count": 105,
   "metadata": {},
   "outputs": [],
   "source": [
    "if '2022' in user_date:\n",
    "    holidays = holidays.drop('2023')\n",
    "if '2023' in user_date:\n",
    "    holidays = holidays.drop('2022')"
   ]
  },
  {
   "cell_type": "code",
   "execution_count": 106,
   "metadata": {},
   "outputs": [],
   "source": [
    "broken_date = user_date.split()"
   ]
  },
  {
   "cell_type": "code",
   "execution_count": 107,
   "metadata": {},
   "outputs": [
    {
     "data": {
      "text/html": [
       "<table border=\"1\" class=\"dataframe\">\n",
       "    <thead>\n",
       "        <tr>\n",
       "            <th>Holiday</th> <th>2022</th>\n",
       "        </tr>\n",
       "    </thead>\n",
       "    <tbody>\n",
       "        <tr>\n",
       "            <td>Wellness Day (Spring)</td> <td>April 14</td>\n",
       "        </tr>\n",
       "        <tr>\n",
       "            <td>University Holiday   </td> <td>April 15</td>\n",
       "        </tr>\n",
       "        <tr>\n",
       "            <td>LDOC (Spring)        </td> <td>April 27</td>\n",
       "        </tr>\n",
       "    </tbody>\n",
       "</table>"
      ],
      "text/plain": [
       "Holiday               | 2022\n",
       "Wellness Day (Spring) | April 14\n",
       "University Holiday    | April 15\n",
       "LDOC (Spring)         | April 27"
      ]
     },
     "execution_count": 107,
     "metadata": {},
     "output_type": "execute_result"
    }
   ],
   "source": [
    "holiday_month = holidays.where('2022', are.containing(broken_date[0]))\n",
    "holiday_month"
   ]
  },
  {
   "cell_type": "code",
   "execution_count": 108,
   "metadata": {},
   "outputs": [],
   "source": [
    "if broken_date[0] == \"April\":\n",
    "    if int(broken_date[1]) > 15:\n",
    "        holiday_month = holiday_month.where('2022', are.containing('27'))\n",
    "    if int(broken_date[1]) < 15: \n",
    "        holiday_month = holiday_month.where('2022', are.containing('April 14'))\n",
    "    elif int(broken_date[1]) == 15:\n",
    "        holiday_month = holiday_month.where('2022', are.containing('April 15'))"
   ]
  },
  {
   "cell_type": "code",
   "execution_count": 109,
   "metadata": {},
   "outputs": [
    {
     "name": "stdout",
     "output_type": "stream",
     "text": [
      "The closest holiday is ['Wellness Day (Spring)']!\n"
     ]
    }
   ],
   "source": [
    "print(f\"The closest holiday is {holiday_month.column('Holiday')}!\")"
   ]
  },
  {
   "cell_type": "code",
   "execution_count": null,
   "metadata": {},
   "outputs": [],
   "source": []
  }
 ],
 "metadata": {
  "anaconda-cloud": {},
  "kernelspec": {
   "display_name": "Python 3 (ipykernel)",
   "language": "python",
   "name": "python3"
  },
  "language_info": {
   "codemirror_mode": {
    "name": "ipython",
    "version": 3
   },
   "file_extension": ".py",
   "mimetype": "text/x-python",
   "name": "python",
   "nbconvert_exporter": "python",
   "pygments_lexer": "ipython3",
   "version": "3.9.7"
  }
 },
 "nbformat": 4,
 "nbformat_minor": 4
}
