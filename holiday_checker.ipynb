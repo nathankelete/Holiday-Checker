{
 "cells": [
  {
   "cell_type": "code",
   "execution_count": 1,
   "metadata": {},
   "outputs": [],
   "source": [
    "from datascience import *\n",
    "import numpy as np"
   ]
  },
  {
   "cell_type": "markdown",
   "metadata": {
    "tags": []
   },
   "source": [
    "## Program that tells you when the closest (university) holiday/break is. ##"
   ]
  },
  {
   "cell_type": "markdown",
   "metadata": {},
   "source": [
    "Developed by Nathan Kelete"
   ]
  },
  {
   "cell_type": "code",
   "execution_count": 2,
   "metadata": {},
   "outputs": [],
   "source": [
    "holidays = Table.read_table('unc_holidays.csv')\n",
    "holidays.relabel('Unnamed: 0', 'Holiday');"
   ]
  },
  {
   "cell_type": "code",
   "execution_count": null,
   "metadata": {},
   "outputs": [],
   "source": [
    "user_date = input(\"What's today's date? (EX: (January 1 2022)\")"
   ]
  },
  {
   "cell_type": "code",
   "execution_count": null,
   "metadata": {},
   "outputs": [],
   "source": [
    "if '2022' in user_date:\n",
    "    holidays = holidays.drop('2023')\n",
    "if '2023' in user_date:\n",
    "    holidays = holidays.drop('2022')"
   ]
  },
  {
   "cell_type": "code",
   "execution_count": null,
   "metadata": {},
   "outputs": [],
   "source": [
    "broken_date = user_date.split()"
   ]
  },
  {
   "cell_type": "code",
   "execution_count": null,
   "metadata": {},
   "outputs": [],
   "source": [
    "holiday_month = holidays.where('2022', are.containing(broken_date[0]))\n",
    "holiday_month"
   ]
  },
  {
   "cell_type": "code",
   "execution_count": null,
   "metadata": {},
   "outputs": [],
   "source": [
    "if broken_date[0] == \"April\":\n",
    "    if int(broken_date[1]) > 15:\n",
    "        holiday_month = holiday_month.where('2022', are.containing('27'))\n",
    "    if int(broken_date[1]) < 15: \n",
    "        holiday_month = holiday_month.where('2022', are.containing('April 14'))\n",
    "    elif int(broken_date[1]) == 15:\n",
    "        holiday_month = holiday_month.where('2022', are.containing('April 15'))"
   ]
  },
  {
   "cell_type": "code",
   "execution_count": null,
   "metadata": {},
   "outputs": [],
   "source": [
    "print(f\"The closest holiday is {holiday_month.column('Holiday')}!\")"
   ]
  },
  {
   "cell_type": "code",
   "execution_count": null,
   "metadata": {},
   "outputs": [],
   "source": []
  }
 ],
 "metadata": {
  "anaconda-cloud": {},
  "kernelspec": {
   "display_name": "Python 3 (ipykernel)",
   "language": "python",
   "name": "python3"
  },
  "language_info": {
   "codemirror_mode": {
    "name": "ipython",
    "version": 3
   },
   "file_extension": ".py",
   "mimetype": "text/x-python",
   "name": "python",
   "nbconvert_exporter": "python",
   "pygments_lexer": "ipython3",
   "version": "3.9.7"
  }
 },
 "nbformat": 4,
 "nbformat_minor": 4
}
